{
 "cells": [
  {
   "cell_type": "code",
   "execution_count": 1,
   "id": "32c76c7f-b1ab-4609-8f33-7b2b74d9065b",
   "metadata": {},
   "outputs": [],
   "source": [
    "# Required libraries: Selenium for webscraping, and Pandas for collecting and exporting data\n",
    "import pandas as pd\n",
    "from selenium import webdriver\n",
    "from selenium.webdriver.common.by import By\n",
    "import time"
   ]
  },
  {
   "cell_type": "code",
   "execution_count": 2,
   "id": "5c55a0cd-4d85-4c7c-84a8-cfca383dfcd6",
   "metadata": {},
   "outputs": [],
   "source": [
    "def fetch_results(table, gender):\n",
    "    '''\n",
    "    Fetch all results from specified table for the specified gender and loads them to dataframe df\n",
    "    Inputs:\n",
    "    1. table - either \"tb_1_1Data\" for females or \"tb_1_2Data\" for males\n",
    "    2. gender - \"F\" for females or \"M\" for males\n",
    "    '''\n",
    "    table = driver.find_element(By.ID, table)\n",
    "    rows = table.find_elements(By.TAG_NAME, 'tr')\n",
    "    for row in rows:\n",
    "        row.click() # Click row to load details window including finishing place\n",
    "        place = driver.find_element(\n",
    "            By.XPATH,\n",
    "            '/html/body/table/tbody/tr/td/div/div/div[2]/div[3]/div[2]/div/div[9]/div[6]'\n",
    "        ).text\n",
    "        place = int(place.replace('Overall: ', '').replace('/405', ''))\n",
    "        driver.find_element(By.XPATH, '/html/body/table/tbody/tr/td/div/img').click() # Close details window\n",
    "        cells = row.find_elements(By.TAG_NAME, 'td')\n",
    "        name = cells[3].text\n",
    "        finish_time = cells[-2].text\n",
    "        df.loc[len(df.index)] = [name, gender, finish_time, place]"
   ]
  },
  {
   "cell_type": "code",
   "execution_count": 3,
   "id": "e23cd874-9f2e-4d98-88e3-28cb87d164cc",
   "metadata": {},
   "outputs": [],
   "source": [
    "def update_place(x):\n",
    "    '''\n",
    "    Runners in place 105 and 306 have no name/gender data, so they will be excluded\n",
    "    from the dataframe, and other runners' places are updated accordingly.\n",
    "    Input: original Place from df\n",
    "    Output: Adjusted Place\n",
    "    '''\n",
    "    if x < 105:\n",
    "        y = x # listed place is correct\n",
    "    elif x < 306:\n",
    "        y = x - 1 # bump up one to account for missing #105\n",
    "    else:\n",
    "        y = x - 2 # bump up two to account for #105, #306\n",
    "    return y"
   ]
  },
  {
   "cell_type": "code",
   "execution_count": 4,
   "id": "dec6c51b-3c0c-4894-850d-148daf95e264",
   "metadata": {},
   "outputs": [],
   "source": [
    "# Establish web driver, open webpage, and create dataframe\n",
    "options = webdriver.ChromeOptions()\n",
    "options.add_experimental_option('excludeSwitches', ['enable-logging'])\n",
    "driver = webdriver.Chrome(options=options)\n",
    "driver.implicitly_wait(10)\n",
    "driver.get('https://my.raceresult.com/182768/results')\n",
    "\n",
    "df = pd.DataFrame(columns=['Name', 'Gender', 'Time', 'Place'])\n",
    "\n",
    "# Dismiss cookies pop up\n",
    "driver.find_element(\n",
    "    By.XPATH,\n",
    "    '//a[text()=\"Got it\"]'\n",
    ").click()\n",
    "\n",
    "# Load all results for female finishers\n",
    "driver.find_element(\n",
    "    By.XPATH,\n",
    "    '//a[text()=\"show all 137 participants\"]'\n",
    ").click()\n",
    "\n",
    "time.sleep(1) # The implicit wait doesn't work here because the table exists,\n",
    "# but it needs more time to finish loading\n",
    "\n",
    "fetch_results('tb_1_1Data', 'F')\n",
    "\n",
    "# Load all results for male finishers\n",
    "driver.find_element(\n",
    "    By.XPATH,\n",
    "    '//a[text()=\"show all 266 participants\"]'\n",
    ").click()\n",
    "\n",
    "time.sleep(1)\n",
    "\n",
    "fetch_results('tb_1_2Data', 'M')\n",
    "\n",
    "driver.quit()\n",
    "\n",
    "# Adjust places for missing runners, sort df by place, and export\n",
    "df['Place'] = df[['Place']].applymap(update_place)\n",
    "df.sort_values('Place', inplace=True)\n",
    "df.set_index('Place', drop=True, inplace=True)\n",
    "df.to_csv('2021boulder.csv')"
   ]
  }
 ],
 "metadata": {
  "kernelspec": {
   "display_name": "Python 3 (ipykernel)",
   "language": "python",
   "name": "python3"
  },
  "language_info": {
   "codemirror_mode": {
    "name": "ipython",
    "version": 3
   },
   "file_extension": ".py",
   "mimetype": "text/x-python",
   "name": "python",
   "nbconvert_exporter": "python",
   "pygments_lexer": "ipython3",
   "version": "3.10.5"
  }
 },
 "nbformat": 4,
 "nbformat_minor": 5
}
