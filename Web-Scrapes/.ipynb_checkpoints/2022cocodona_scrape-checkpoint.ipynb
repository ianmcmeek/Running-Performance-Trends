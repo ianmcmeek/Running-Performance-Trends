{
 "cells": [
  {
   "cell_type": "code",
   "execution_count": 60,
   "id": "49eeddfa-64e9-4f5f-a04c-68321bb4ac19",
   "metadata": {},
   "outputs": [],
   "source": [
    "from bs4 import BeautifulSoup\n",
    "import matplotlib.pyplot as plt\n",
    "import numpy as np\n",
    "import pandas as pd\n",
    "from selenium import webdriver"
   ]
  },
  {
   "cell_type": "code",
   "execution_count": 52,
   "id": "fc75623c-fc50-4927-b814-b22b9a6ba06f",
   "metadata": {},
   "outputs": [],
   "source": [
    "options = webdriver.ChromeOptions()\n",
    "options.add_experimental_option('excludeSwitches', ['enable-logging'])\n",
    "driver = webdriver.Chrome(options=options)\n",
    "driver.implicitly_wait(10)\n",
    "driver.get('https://ultrasignup.com/results_event.aspx?did=85868')\n",
    "\n",
    "df = pd.DataFrame(columns=['Name', 'Gender'])\n",
    "df.index.name = 'Place'\n",
    "\n",
    "html = driver.page_source\n",
    "soup = BeautifulSoup(html, 'html.parser')\n",
    "driver.quit()\n",
    "table = soup.find('tbody')"
   ]
  },
  {
   "cell_type": "code",
   "execution_count": 53,
   "id": "968f4b89-19cf-487e-a269-c8803d446a11",
   "metadata": {},
   "outputs": [
    {
     "data": {
      "text/html": [
       "<div>\n",
       "<style scoped>\n",
       "    .dataframe tbody tr th:only-of-type {\n",
       "        vertical-align: middle;\n",
       "    }\n",
       "\n",
       "    .dataframe tbody tr th {\n",
       "        vertical-align: top;\n",
       "    }\n",
       "\n",
       "    .dataframe thead th {\n",
       "        text-align: right;\n",
       "    }\n",
       "</style>\n",
       "<table border=\"1\" class=\"dataframe\">\n",
       "  <thead>\n",
       "    <tr style=\"text-align: right;\">\n",
       "      <th></th>\n",
       "      <th>Name</th>\n",
       "      <th>Gender</th>\n",
       "    </tr>\n",
       "    <tr>\n",
       "      <th>Place</th>\n",
       "      <th></th>\n",
       "      <th></th>\n",
       "    </tr>\n",
       "  </thead>\n",
       "  <tbody>\n",
       "    <tr>\n",
       "      <th>1</th>\n",
       "      <td>Joe McConaughy</td>\n",
       "      <td>M</td>\n",
       "    </tr>\n",
       "    <tr>\n",
       "      <th>2</th>\n",
       "      <td>Michael McKnight</td>\n",
       "      <td>M</td>\n",
       "    </tr>\n",
       "    <tr>\n",
       "      <th>3</th>\n",
       "      <td>Annie Hughes</td>\n",
       "      <td>F</td>\n",
       "    </tr>\n",
       "    <tr>\n",
       "      <th>4</th>\n",
       "      <td>Matt Smith</td>\n",
       "      <td>M</td>\n",
       "    </tr>\n",
       "    <tr>\n",
       "      <th>5</th>\n",
       "      <td>Kevin Goldberg</td>\n",
       "      <td>M</td>\n",
       "    </tr>\n",
       "  </tbody>\n",
       "</table>\n",
       "</div>"
      ],
      "text/plain": [
       "                   Name Gender\n",
       "Place                         \n",
       "1        Joe McConaughy      M\n",
       "2      Michael McKnight      M\n",
       "3          Annie Hughes      F\n",
       "4            Matt Smith      M\n",
       "5        Kevin Goldberg      M"
      ]
     },
     "execution_count": 53,
     "metadata": {},
     "output_type": "execute_result"
    }
   ],
   "source": [
    "for row in table.find_all('tr'):\n",
    "    col = row.find_all('td')\n",
    "    if (col[0].text=='results' and col[1].text!='0'):\n",
    "        place = int(col[1].text)\n",
    "        name = col[2].text + ' ' + col[3].text\n",
    "        gender = col[7].text\n",
    "        df.loc[place] = [name, gender]\n",
    "\n",
    "df.head()"
   ]
  },
  {
   "cell_type": "code",
   "execution_count": 54,
   "id": "f1c8260d-db10-465c-a0eb-2d3be3418f2b",
   "metadata": {},
   "outputs": [
    {
     "data": {
      "text/plain": [
       "(151, 2)"
      ]
     },
     "execution_count": 54,
     "metadata": {},
     "output_type": "execute_result"
    }
   ],
   "source": [
    "df.shape"
   ]
  },
  {
   "cell_type": "code",
   "execution_count": 55,
   "id": "230b4295-6f7b-45d3-a063-9ca3acec27a7",
   "metadata": {},
   "outputs": [
    {
     "data": {
      "text/plain": [
       "M    114\n",
       "F     37\n",
       "Name: Gender, dtype: int64"
      ]
     },
     "execution_count": 55,
     "metadata": {},
     "output_type": "execute_result"
    }
   ],
   "source": [
    "df['Gender'].value_counts()"
   ]
  },
  {
   "cell_type": "code",
   "execution_count": 56,
   "id": "5c28c95f-43f8-41ac-a6b8-c166ba34628f",
   "metadata": {},
   "outputs": [],
   "source": [
    "tot_m = df['Gender'].value_counts().loc['M']\n",
    "tot_f = df['Gender'].value_counts().loc['F']\n",
    "tot = tot_m + tot_f"
   ]
  },
  {
   "cell_type": "code",
   "execution_count": 58,
   "id": "5f6b556b-8a44-4c0c-8f1e-bf3da664f420",
   "metadata": {},
   "outputs": [],
   "source": [
    "df['Cumulative_F'] = np.nan\n",
    "cumulative_f = 0\n",
    "for index, row in df.iterrows():\n",
    "    if df.loc[index, 'Gender']=='F':\n",
    "        cumulative_f += 1\n",
    "    df.loc[index, 'Cumulative_F'] = cumulative_f"
   ]
  },
  {
   "cell_type": "code",
   "execution_count": 61,
   "id": "10211d33-c89d-4088-bb19-b05f1c419a73",
   "metadata": {},
   "outputs": [
    {
     "data": {
      "image/png": "[encoded data removed]",
      "text/plain": [
       "<Figure size 432x288 with 1 Axes>"
      ]
     },
     "metadata": {
      "needs_background": "light"
     },
     "output_type": "display_data"
    }
   ],
   "source": [
    "plt.plot(df.index/tot * 100, (df.index - df['Cumulative_F'])/tot_m * 100, label='% of males finished')\n",
    "plt.plot(df.index/tot * 100, df['Cumulative_F']/tot_f * 100, label='% of females finished')\n",
    "plt.legend()\n",
    "plt.show()"
   ]
  },
  {
   "cell_type": "code",
   "execution_count": 62,
   "id": "63085d73-b785-4ce3-93e4-f78bde8e3fc8",
   "metadata": {},
   "outputs": [
    {
     "data": {
      "image/png": "[encoded data removed]",
      "text/plain": [
       "<Figure size 720x432 with 1 Axes>"
      ]
     },
     "metadata": {
      "needs_background": "light"
     },
     "output_type": "display_data"
    }
   ],
   "source": [
    "plt.figure(figsize=(10,6))\n",
    "plt.plot(\n",
    "    df.index/tot * 100,\n",
    "    ((df.index - df['Cumulative_F'])/tot_m - df['Cumulative_F']/tot_f) * 100,\n",
    "    label='finisher gap'\n",
    ")\n",
    "plt.legend()\n",
    "plt.show()"
   ]
  },
  {
   "cell_type": "code",
   "execution_count": 63,
   "id": "4ada09df-15ca-4114-ab2d-4b87567ab659",
   "metadata": {},
   "outputs": [
    {
     "data": {
      "text/plain": [
       "4.338549075391179"
      ]
     },
     "execution_count": 63,
     "metadata": {},
     "output_type": "execute_result"
    }
   ],
   "source": [
    "df['gap'] = ((df.index - df['Cumulative_F'])/tot_m - df['Cumulative_F']/tot_f) * 100\n",
    "df['gap'].mean()"
   ]
  },
  {
   "cell_type": "code",
   "execution_count": null,
   "id": "daff3f48-313f-4f77-ac3a-73297b0d918d",
   "metadata": {},
   "outputs": [],
   "source": []
  }
 ],
 "metadata": {
  "kernelspec": {
   "display_name": "Python 3 (ipykernel)",
   "language": "python",
   "name": "python3"
  },
  "language_info": {
   "codemirror_mode": {
    "name": "ipython",
    "version": 3
   },
   "file_extension": ".py",
   "mimetype": "text/x-python",
   "name": "python",
   "nbconvert_exporter": "python",
   "pygments_lexer": "ipython3",
   "version": "3.10.5"
  }
 },
 "nbformat": 4,
 "nbformat_minor": 5
}
