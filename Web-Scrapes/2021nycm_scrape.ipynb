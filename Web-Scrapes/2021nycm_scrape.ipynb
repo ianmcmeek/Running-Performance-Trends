{
 "cells": [
  {
   "cell_type": "code",
   "execution_count": 1,
   "id": "0a383345-758f-43c3-9e45-240c26f40fbc",
   "metadata": {},
   "outputs": [],
   "source": [
    "# Required libraries: Pandas for storing and exporting data, Selenium for webscraping\n",
    "import pandas as pd\n",
    "from selenium import webdriver\n",
    "from selenium.webdriver.support.select import Select"
   ]
  },
  {
   "cell_type": "code",
   "execution_count": 2,
   "id": "8e025db8-098b-428c-ba6e-3e0ea1089c27",
   "metadata": {},
   "outputs": [],
   "source": [
    "def set_filter(start):\n",
    "    '''\n",
    "    Uses the 'Advanced Filter' to set the start place\n",
    "    for the results page.\n",
    "    Note that setting place to 'Greater than 10', for example,\n",
    "    actually sets the display including the 10th place finisher.\n",
    "    \n",
    "    Input: starting place to display results (can be 0 -> 24950)\n",
    "    '''\n",
    "    \n",
    "    # Open the advanced filter\n",
    "    if start==0:\n",
    "        driver.find_element(\n",
    "            'xpath',\n",
    "            '//div[@ng-click=\"showAdvancedFilter()\"]'\n",
    "        ).click()\n",
    "    else:\n",
    "        driver.find_element(\n",
    "            'xpath',\n",
    "            '//a[@ng-click=\"showAdvancedFilter()\"]'\n",
    "        ).click()\n",
    "    \n",
    "    # Select places that are greater than or equal to the user input\n",
    "    Select(driver.find_element(\n",
    "        'xpath',\n",
    "        '//select[@ng-model=\"overallPlaceCompareOption\"]'\n",
    "    )).select_by_visible_text('Greater than')\n",
    "    \n",
    "    # Set the starting place\n",
    "    place_num = driver.find_element(\n",
    "        'xpath',\n",
    "        '//input[@ng-model=\"overallPlace\"]'\n",
    "    )\n",
    "    place_num.clear()\n",
    "    place_num.send_keys(str(start))\n",
    "    \n",
    "    # Apply the filter\n",
    "    driver.find_element(\n",
    "        'xpath',\n",
    "        '//a[@ng-click=\"apply()\"]'\n",
    "    ).click()"
   ]
  },
  {
   "cell_type": "code",
   "execution_count": 3,
   "id": "7ae321e2-a940-45da-ada9-8dbef8c79236",
   "metadata": {},
   "outputs": [],
   "source": [
    "def get_results(start, pages):\n",
    "    '''\n",
    "    Collects and stores results\n",
    "    \n",
    "    Inputs: 'start' is the place to begin recording,\n",
    "    'pages' is how many pages of results to record\n",
    "    '''\n",
    "    set_filter(start)\n",
    "    \n",
    "    # Load more results (pages - 1) times\n",
    "    for i in range(pages - 1):\n",
    "        try:\n",
    "            driver.find_element(\n",
    "                'xpath',\n",
    "                '//a[@class=\"button-load-more\"]'\n",
    "            ).click()\n",
    "        except:\n",
    "            pass\n",
    "    \n",
    "    # Scrape data from webpage into dataframe and update current place\n",
    "    elems = driver.find_elements('xpath', '//div[@class=\"cmd-finisher ng-scope\"]')\n",
    "    for elem in elems:\n",
    "        parts = elem.text.split('\\n')\n",
    "        global current_place\n",
    "        current_place = int(parts[-1].replace(',',''))\n",
    "        df.loc[current_place] = [parts[0], parts[1][0], parts[4]]"
   ]
  },
  {
   "cell_type": "code",
   "execution_count": 4,
   "id": "62056238-ac0a-4615-ac0f-7919a2535316",
   "metadata": {},
   "outputs": [
    {
     "name": "stdin",
     "output_type": "stream",
     "text": [
      "24950 results have been loaded.\n",
      "    Export dataframe to 2021nycm.csv?\n",
      "    'y' for yes, anything else for no.\n",
      "     y\n"
     ]
    },
    {
     "name": "stdout",
     "output_type": "stream",
     "text": [
      "Dataframe exported!\n"
     ]
    }
   ],
   "source": [
    "# Establish web driver, open webpage, and create dataframe\n",
    "options = webdriver.ChromeOptions()\n",
    "options.add_experimental_option('excludeSwitches', ['enable-logging'])\n",
    "driver = webdriver.Chrome(options=options)\n",
    "driver.implicitly_wait(10)\n",
    "driver.get('https://results.nyrr.org/event/M2021/finishers')\n",
    "\n",
    "df = pd.DataFrame(columns=['Name', 'Gender', 'Time'])\n",
    "df.index.name = 'Place'\n",
    "\n",
    "# Run get_results until all are loaded\n",
    "current_place = 0\n",
    "while current_place < 24950:\n",
    "    get_results(current_place, 10)\n",
    "    #print('Now current place is', current_place)\n",
    "\n",
    "# Based on user input, decide whether or not to export results to csv\n",
    "# (mostly used for debugging during development)\n",
    "temp = input(\n",
    "    '''{} results have been loaded.\n",
    "    Export dataframe to 2021nycm.csv?\n",
    "    'y' for yes, anything else for no.\n",
    "    '''.format(df.shape[0])\n",
    "    )\n",
    "if temp=='y':\n",
    "    df.to_csv('2021nycm.csv')\n",
    "    print('Dataframe exported!')\n",
    "else:\n",
    "    print('Dataframe not exported.')\n",
    "\n",
    "driver.quit()"
   ]
  }
 ],
 "metadata": {
  "kernelspec": {
   "display_name": "Python 3 (ipykernel)",
   "language": "python",
   "name": "python3"
  },
  "language_info": {
   "codemirror_mode": {
    "name": "ipython",
    "version": 3
   },
   "file_extension": ".py",
   "mimetype": "text/x-python",
   "name": "python",
   "nbconvert_exporter": "python",
   "pygments_lexer": "ipython3",
   "version": "3.10.5"
  }
 },
 "nbformat": 4,
 "nbformat_minor": 5
}
