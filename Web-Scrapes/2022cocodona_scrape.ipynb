{
 "cells": [
  {
   "cell_type": "code",
   "execution_count": 1,
   "id": "49eeddfa-64e9-4f5f-a04c-68321bb4ac19",
   "metadata": {},
   "outputs": [],
   "source": [
    "# Required libraries: BeautifulSoup and Selenium for webscraping,\n",
    "# Pandas for collecting and exporting data\n",
    "from bs4 import BeautifulSoup\n",
    "import pandas as pd\n",
    "from selenium import webdriver"
   ]
  },
  {
   "cell_type": "code",
   "execution_count": 2,
   "id": "fc75623c-fc50-4927-b814-b22b9a6ba06f",
   "metadata": {},
   "outputs": [],
   "source": [
    "# Establish web driver, open webpage, and create dataframe\n",
    "options = webdriver.ChromeOptions()\n",
    "options.add_experimental_option('excludeSwitches', ['enable-logging'])\n",
    "driver = webdriver.Chrome(options=options)\n",
    "driver.implicitly_wait(10)\n",
    "driver.get('https://ultrasignup.com/results_event.aspx?did=85868')\n",
    "\n",
    "df = pd.DataFrame(columns=['Name', 'Gender', 'Time'])\n",
    "df.index.name = 'Place'\n",
    "\n",
    "# Parse results with BeatifulSoup for ease\n",
    "html = driver.page_source\n",
    "soup = BeautifulSoup(html, 'html.parser')\n",
    "driver.quit()\n",
    "table = soup.find('tbody')\n",
    "\n",
    "# Iterate through rows in the results table, saving info to dataframe\n",
    "for row in table.find_all('tr'):\n",
    "    col = row.find_all('td')\n",
    "    if (col[0].text=='results' and col[1].text!='0'): # Filters out filler rows and non-finisher results\n",
    "        place = int(col[1].text)\n",
    "        name = col[2].text + ' ' + col[3].text\n",
    "        gender = col[7].text\n",
    "        time = col[9].text\n",
    "        df.loc[place] = [name, gender, time]\n",
    "\n",
    "# Export results and close webdriver\n",
    "df.to_csv('2022cocodona.csv')\n",
    "driver.quit()"
   ]
  }
 ],
 "metadata": {
  "kernelspec": {
   "display_name": "Python 3 (ipykernel)",
   "language": "python",
   "name": "python3"
  },
  "language_info": {
   "codemirror_mode": {
    "name": "ipython",
    "version": 3
   },
   "file_extension": ".py",
   "mimetype": "text/x-python",
   "name": "python",
   "nbconvert_exporter": "python",
   "pygments_lexer": "ipython3",
   "version": "3.10.6"
  }
 },
 "nbformat": 4,
 "nbformat_minor": 5
}
