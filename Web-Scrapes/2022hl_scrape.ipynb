{
 "cells": [
  {
   "cell_type": "code",
   "execution_count": 1,
   "id": "50e7575e-699b-4e9c-8d1f-e4c906986997",
   "metadata": {},
   "outputs": [],
   "source": [
    "# Required libraries: Requests and BeautifulSoup to get and parse webpage,\n",
    "# Pandas for collecting and exporting data\n",
    "from bs4 import BeautifulSoup\n",
    "import pandas as pd\n",
    "import requests"
   ]
  },
  {
   "cell_type": "code",
   "execution_count": 2,
   "id": "908ba039-a47f-46e4-b1fc-a8a26d05f69d",
   "metadata": {},
   "outputs": [],
   "source": [
    "# Get the html file of the results page as a string and parse with BeautifulSoup\n",
    "url = 'https://www.opensplittime.org/events/2022-high-lonesome-100/summary?finished=true'\n",
    "results = requests.get(url).text\n",
    "soup = BeautifulSoup(results, 'html.parser')\n",
    "\n",
    "# Create dataframe\n",
    "df = pd.DataFrame(columns=['Name', 'Gender', 'Time'])\n",
    "df.index.name = 'Place'\n",
    "\n",
    "# BeautifulSoup fails to identify 'tr' elements,\n",
    "# so individual cells are extracted and analyzed in groups of 7 corresponding to rows\n",
    "tds = soup.find('tbody').find_all('td')\n",
    "for i in range(len(tds)//7):\n",
    "    place_str = tds[7*i].text\n",
    "    place = int(place_str.split('/')[0])\n",
    "    name = tds[7*i + 1].text\n",
    "    category = tds[7*i + 3].text\n",
    "    if category[0]=='F':\n",
    "        gender = 'F'\n",
    "    elif category[0]=='M':\n",
    "        gender = 'M'\n",
    "    else:\n",
    "        gender = 'X'\n",
    "    time = tds[7*i + 6].text\n",
    "    df.loc[place] = [name, gender, time]\n",
    "\n",
    "df.to_csv('2022hl.csv')"
   ]
  }
 ],
 "metadata": {
  "kernelspec": {
   "display_name": "Python 3 (ipykernel)",
   "language": "python",
   "name": "python3"
  },
  "language_info": {
   "codemirror_mode": {
    "name": "ipython",
    "version": 3
   },
   "file_extension": ".py",
   "mimetype": "text/x-python",
   "name": "python",
   "nbconvert_exporter": "python",
   "pygments_lexer": "ipython3",
   "version": "3.10.5"
  }
 },
 "nbformat": 4,
 "nbformat_minor": 5
}
